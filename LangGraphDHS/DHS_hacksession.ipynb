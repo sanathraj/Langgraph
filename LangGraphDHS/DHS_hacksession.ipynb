{
 "cells": [
  {
   "cell_type": "code",
   "execution_count": 21,
   "id": "14e21536",
   "metadata": {},
   "outputs": [
    {
     "name": "stdout",
     "output_type": "stream",
     "text": [
      "📄 Building FAISS index...\n",
      "✅ Saved: index.faiss, index.pkl in C:\\Users\\sanat\\LangGraph-Udemy-Course\\LangGraphDHS\\policy_faiss_index\n",
      "✅ FAISS index loaded from: C:\\Users\\sanat\\LangGraph-Udemy-Course\\LangGraphDHS\\policy_faiss_index\n"
     ]
    }
   ],
   "source": [
    "# -----------------------\n",
    "# 3️⃣ Step 1 - Build FAISS Index (Only run once or when updating)\n",
    "# -----------------------\n",
    "\n",
    "\n",
    "from pathlib import Path\n",
    "from langchain_community.vectorstores import FAISS   # prefer community import\n",
    "from langchain_openai import OpenAIEmbeddings\n",
    "from langchain.document_loaders import TextLoader\n",
    "from langchain.text_splitter import RecursiveCharacterTextSplitter\n",
    "\n",
    "INDEX_DIR = Path(\"policy_faiss_index\").resolve()      # absolute path to index folder\n",
    "INDEX_FAISS = INDEX_DIR / \"index.faiss\"\n",
    "INDEX_PKL = INDEX_DIR / \"index.pkl\"\n",
    "POLICY_FILE = Path(r\"C:/Users/sanat/LangGraph-Udemy-Course/LangGraphDHS/policies.txt\")\n",
    "\n",
    "embeddings = OpenAIEmbeddings()\n",
    "\n",
    "def build_faiss_index():\n",
    "    print(\"📄 Building FAISS index...\")\n",
    "    docs = TextLoader(str(POLICY_FILE)).load()\n",
    "    chunks = RecursiveCharacterTextSplitter(chunk_size=500, chunk_overlap=100).split_documents(docs)\n",
    "    vs = FAISS.from_documents(chunks, embeddings)\n",
    "    INDEX_DIR.mkdir(parents=True, exist_ok=True)\n",
    "    vs.save_local(str(INDEX_DIR))\n",
    "    print(f\"✅ Saved: {INDEX_FAISS.name}, {INDEX_PKL.name} in {INDEX_DIR}\")\n",
    "\n",
    "# Build if missing\n",
    "if not (INDEX_FAISS.exists() and INDEX_PKL.exists()):\n",
    "    if not POLICY_FILE.exists():\n",
    "        raise FileNotFoundError(f\"Policy file not found at: {POLICY_FILE}\")\n",
    "    build_faiss_index()\n",
    "\n",
    "# Now load safely\n",
    "vectorstore = FAISS.load_local(\n",
    "    str(INDEX_DIR),\n",
    "    embeddings,\n",
    "    index_name=\"index\",\n",
    "    allow_dangerous_deserialization=True\n",
    ")\n",
    "print(\"✅ FAISS index loaded from:\", INDEX_DIR)\n"
   ]
  },
  {
   "cell_type": "code",
   "execution_count": 22,
   "id": "2f268366",
   "metadata": {},
   "outputs": [],
   "source": [
    "# ============================================\n",
    "# 📌 LangGraph + FAISS Retrieval Notebook\n",
    "# ============================================\n",
    "\n",
    "# -----------------------\n",
    "# 1️⃣ Install dependencies (uncomment if running first time)\n",
    "# -----------------------\n",
    "# %pip install langgraph langchain langchain-openai faiss-cpu python-dotenv\n",
    "\n",
    "# -----------------------\n",
    "# 2️⃣ Imports & API Key Setup\n",
    "# -----------------------\n",
    "from langgraph.graph import StateGraph, START, END\n",
    "from typing import TypedDict\n",
    "from langchain_core.messages import HumanMessage\n",
    "from langchain_openai import ChatOpenAI, OpenAIEmbeddings\n",
    "from langchain.vectorstores import FAISS\n",
    "from langchain.chains import LLMChain\n",
    "from langchain.prompts import PromptTemplate\n",
    "from langchain.memory import ConversationBufferMemory\n",
    "from langchain.document_loaders import TextLoader\n",
    "from langchain.text_splitter import RecursiveCharacterTextSplitter\n",
    "import os\n",
    "\n",
    "from dotenv import load_dotenv, find_dotenv\n",
    "load_dotenv(find_dotenv(), override=True)\n",
    "\n",
    "# -----------------------\n",
    "# 4️⃣ Step 2 - Define LangGraph State\n",
    "# -----------------------\n",
    "class State(TypedDict):\n",
    "    messages: list\n",
    "    department: str\n",
    "    retrieved_docs: list\n",
    "    final_answer: str\n",
    "\n",
    "# -----------------------\n",
    "# 5️⃣ Step 3 - Load Models & Vectorstore\n",
    "# -----------------------\n",
    "llm = ChatOpenAI(model_name='gpt-4o-mini', temperature=0.5)\n",
    "embedding_model = OpenAIEmbeddings()\n",
    "vectorstore = FAISS.load_local(\"policy_faiss_index\", embedding_model, allow_dangerous_deserialization=True)\n",
    "\n",
    "memory = ConversationBufferMemory(return_messages=True)\n",
    "\n",
    "# -----------------------\n",
    "# ✅ Helper: robustly get last user text (works for dict or BaseMessage)\n",
    "# -----------------------\n",
    "def _last_content(state: State) -> str:\n",
    "    m = state[\"messages\"][-1]\n",
    "    return m[\"content\"] if isinstance(m, dict) else getattr(m, \"content\", str(m))\n",
    "\n",
    "# -----------------------\n",
    "# 6️⃣ Step 4 - Define Nodes\n",
    "# -----------------------\n",
    "def understand_query(state: State) -> State:\n",
    "    return {**state, \"messages\": state.get(\"messages\", [])}\n",
    "\n",
    "def classify_department(state: State) -> State:\n",
    "    query = _last_content(state)  # fixed: HumanMessage is not subscriptable\n",
    "    prompt = PromptTemplate.from_template(\n",
    "        \"Classify this query into one department: HR, Finance, or IT:\\n\\n{query}\"\n",
    "    )\n",
    "    chain = LLMChain(llm=llm, prompt=prompt)\n",
    "    department = chain.run(query=query).strip().lower()\n",
    "    allowed = {\"hr\", \"finance\", \"it\"}\n",
    "    if department not in allowed:\n",
    "        department = \"hr\"  # sensible fallback\n",
    "    return {**state, \"department\": department}\n",
    "\n",
    "def retrieve_docs(state: State) -> State:\n",
    "    query = _last_content(state)  # fixed: HumanMessage is not subscriptable\n",
    "    docs = vectorstore.similarity_search(query, k=5) or []\n",
    "    return {**state, \"retrieved_docs\": docs}\n",
    "\n",
    "def filter_docs(state: State) -> State:\n",
    "    docs = state[\"retrieved_docs\"]\n",
    "    if not docs:\n",
    "        return {**state, \"retrieved_docs\": []}\n",
    "    combined = \"\\n\\n\".join([doc.page_content for doc in docs])\n",
    "    prompt = PromptTemplate.from_template(\n",
    "        \"Here is some policy content:\\n{docs}\\n\\nFilter out irrelevant or redundant parts and retain the most helpful content.\"\n",
    "    )\n",
    "    chain = LLMChain(llm=llm, prompt=prompt)\n",
    "    filtered = chain.run(docs=combined)\n",
    "    return {**state, \"retrieved_docs\": [filtered]}\n",
    "\n",
    "def summarize_answer(state: State) -> State:\n",
    "    content = state[\"retrieved_docs\"][0] if state[\"retrieved_docs\"] else \"No relevant policy found.\"\n",
    "    prompt = PromptTemplate.from_template(\n",
    "        \"Summarize the following for an employee in simple, helpful language:\\n\\n{content}\"\n",
    "    )\n",
    "    chain = LLMChain(llm=llm, prompt=prompt)\n",
    "    summary = chain.run(content=content)\n",
    "    return {**state, \"final_answer\": summary}\n",
    "\n",
    "# -----------------------\n",
    "# 7️⃣ Step 5 - Build Graph\n",
    "# -----------------------\n",
    "builder = StateGraph(State)\n",
    "builder.add_node(\"UnderstandQuery\", understand_query)\n",
    "builder.add_node(\"ClassifyDepartment\", classify_department)\n",
    "builder.add_node(\"RetrieveDocs\", retrieve_docs)\n",
    "builder.add_node(\"FilterDocs\", filter_docs)\n",
    "builder.add_node(\"SummarizeAnswer\", summarize_answer)\n",
    "\n",
    "builder.set_entry_point(\"UnderstandQuery\")\n",
    "builder.add_edge(\"UnderstandQuery\", \"ClassifyDepartment\")\n",
    "builder.add_edge(\"ClassifyDepartment\", \"RetrieveDocs\")\n",
    "builder.add_edge(\"RetrieveDocs\", \"FilterDocs\")\n",
    "builder.add_edge(\"FilterDocs\", \"SummarizeAnswer\")\n",
    "builder.add_edge(\"SummarizeAnswer\", END)\n",
    "\n",
    "graph = builder.compile()\n",
    "\n",
    "# -----------------------\n",
    "# 8️⃣ Step 6 - Run Workflow\n",
    "# -----------------------\n",
    "def run_query(query: str):\n",
    "    input_state = {\"messages\": [HumanMessage(content=query)]}\n",
    "    result = graph.invoke(input_state)\n",
    "    print(f\"✅ Final Answer:\\n{result['final_answer']}\")\n",
    "    return result\n",
    "\n",
    "# Example run\n",
    "# run_query(\"How many casual leaves can I take in a year?\")\n"
   ]
  },
  {
   "cell_type": "code",
   "execution_count": 26,
   "id": "293de2c6",
   "metadata": {},
   "outputs": [
    {
     "data": {
      "image/png": "[encoded data removed]",
      "text/plain": [
       "<IPython.core.display.Image object>"
      ]
     },
     "metadata": {},
     "output_type": "display_data"
    }
   ],
   "source": [
    "from IPython.display import Image, display\n",
    "display(Image(graph.get_graph().draw_mermaid_png()))"
   ]
  },
  {
   "cell_type": "code",
   "execution_count": 23,
   "id": "83897382",
   "metadata": {},
   "outputs": [
    {
     "name": "stdout",
     "output_type": "stream",
     "text": [
      "✅ Final Answer:\n",
      "**IT Policy: Password Reset**\n",
      "\n",
      "If you forget your password or think your account might be compromised, go to the IT helpdesk portal to request a password reset. You'll need to verify your employee ID. After that, you'll receive a temporary password in your registered email. Make sure to change this temporary password within 24 hours. Remember, your new password should be at least 12 characters long and include a mix of uppercase letters, lowercase letters, numbers, and special characters.\n",
      "\n",
      "**IT Policy: Email Access**\n",
      "\n",
      "You have a company email account for work purposes. If you want to access your email from a personal device, you need to get approval from the IT security team first. Don’t share your email password with anyone, and if you notice anything suspicious, report it to the IT helpdesk right away.\n"
     ]
    }
   ],
   "source": [
    "res = run_query(\"How to reset IT password?\")"
   ]
  },
  {
   "cell_type": "code",
   "execution_count": 25,
   "id": "afb4c516",
   "metadata": {},
   "outputs": [
    {
     "name": "stdout",
     "output_type": "stream",
     "text": [
      "✅ Final Answer:\n",
      "**Travel Advance Policy:**\n",
      "\n",
      "- If you're going on an official trip that lasts more than two days, you can ask for a travel advance.\n",
      "- You need to settle this advance within 15 days after your trip by sending in your actual expenses along with receipts.\n",
      "- If you don’t spend the full amount, return the leftover money to the company right away.\n",
      "- If you don’t submit your expense details on time, money will be deducted from your next paycheck.\n",
      "- Remember, this policy is only for work-related travel, not personal trips.\n",
      "\n",
      "**Reimbursement Claims Policy:**\n",
      "\n",
      "- For any work-related expenses (like travel, meals, or accommodation), you must submit your reimbursement claims within 30 days of spending the money.\n",
      "- Claims submitted after 30 days won’t be accepted unless the Finance Manager approves them for special reasons.\n",
      "- Make sure to include valid receipts or proof of what you spent.\n",
      "- You can submit your claims through the Finance portal or by emailing the accounts department using the official reimbursement form.\n"
     ]
    }
   ],
   "source": [
    "res = run_query(\"is personal travel expenses covered under travel policy?\")"
   ]
  },
  {
   "cell_type": "code",
   "execution_count": null,
   "id": "79502f62",
   "metadata": {},
   "outputs": [],
   "source": []
  }
 ],
 "metadata": {
  "kernelspec": {
   "display_name": ".venv",
   "language": "python",
   "name": "python3"
  },
  "language_info": {
   "codemirror_mode": {
    "name": "ipython",
    "version": 3
   },
   "file_extension": ".py",
   "mimetype": "text/x-python",
   "name": "python",
   "nbconvert_exporter": "python",
   "pygments_lexer": "ipython3",
   "version": "3.11.9"
  }
 },
 "nbformat": 4,
 "nbformat_minor": 5
}

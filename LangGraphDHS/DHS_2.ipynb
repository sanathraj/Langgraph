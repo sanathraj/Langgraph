{
 "cells": [
  {
   "cell_type": "code",
   "execution_count": 6,
   "id": "3f444646",
   "metadata": {},
   "outputs": [],
   "source": [
    "from __future__ import annotations\n",
    "\n",
    "import json\n",
    "from pathlib import Path\n",
    "from typing import TypedDict, List, Dict, Any\n",
    "\n",
    "from dotenv import load_dotenv, find_dotenv\n",
    "load_dotenv(find_dotenv(), override=True)\n",
    "\n",
    "from langgraph.graph import StateGraph, END\n",
    "from langchain_core.messages import HumanMessage\n",
    "from langchain_openai import ChatOpenAI, OpenAIEmbeddings\n",
    "from langchain_community.vectorstores import FAISS\n",
    "from langchain.text_splitter import RecursiveCharacterTextSplitter\n",
    "from langchain.docstore.document import Document\n",
    "from langchain.chains import LLMChain\n",
    "from langchain.prompts import PromptTemplate\n",
    "\n",
    "# Paths\n",
    "ROOT = Path(\".\").resolve()\n",
    "DATA = ROOT / \"data\"\n",
    "DATA.mkdir(exist_ok=True)\n",
    "POLICY_JSON = DATA / \"policies.json\"\n",
    "INDEX_DIR = DATA / \"policy_faiss_index2\"\n",
    "INDEX_DIR.mkdir(exist_ok=True)\n"
   ]
  },
  {
   "cell_type": "code",
   "execution_count": 7,
   "id": "736c9893",
   "metadata": {},
   "outputs": [
    {
     "name": "stdout",
     "output_type": "stream",
     "text": [
      "✅ Wrote seed policies to C:\\Users\\sanat\\LangGraph-Udemy-Course\\LangGraphDHS\\data\\policies.json\n"
     ]
    }
   ],
   "source": [
    "# You can replace/extend this with your real content\n",
    "seed_policies: Dict[str, Dict[str, str]] = {\n",
    "    \"HR\": {\n",
    "        \"Leave and Attendance\": (\n",
    "            \"Employees are entitled to 20 days of casual leave per calendar year. \"\n",
    "            \"Casual leave must be applied for in advance where possible. Unused casual leave \"\n",
    "            \"cannot be carried forward to the next year.\"\n",
    "        ),\n",
    "        \"Sick Leave\": (\n",
    "            \"Employees are granted 10 days of paid sick leave annually. Absences beyond three \"\n",
    "            \"consecutive working days require a medical certificate.\"\n",
    "        ),\n",
    "    },\n",
    "    \"Finance\": {\n",
    "        \"Reimbursement Claims\": (\n",
    "            \"All reimbursement claims must be submitted within 30 days of expense. \"\n",
    "            \"Valid receipts are mandatory. Late claims require Finance Manager approval.\"\n",
    "        ),\n",
    "        \"Travel Advance\": (\n",
    "            \"Travel advance may be requested for trips exceeding two days. Settlement is due \"\n",
    "            \"within 15 days after trip completion.\"\n",
    "        ),\n",
    "    },\n",
    "    \"IT\": {\n",
    "        \"Password Reset\": (\n",
    "            \"If you forgot your password or suspect a breach, raise a ticket on the IT helpdesk portal. \"\n",
    "            \"You will receive a temporary password by email and must change it within 24 hours.\"\n",
    "        ),\n",
    "        \"Email Access\": (\n",
    "            \"Company email is for official use. Access from external devices requires prior approval \"\n",
    "            \"from IT security.\"\n",
    "        ),\n",
    "    },\n",
    "}\n",
    "\n",
    "# Write to a JSON file (idempotent)\n",
    "with open(POLICY_JSON, \"w\", encoding=\"utf-8\") as f:\n",
    "    json.dump(seed_policies, f, indent=2, ensure_ascii=False)\n",
    "\n",
    "print(\"✅ Wrote seed policies to\", POLICY_JSON)\n"
   ]
  },
  {
   "cell_type": "code",
   "execution_count": 8,
   "id": "a3611277",
   "metadata": {},
   "outputs": [
    {
     "name": "stdout",
     "output_type": "stream",
     "text": [
      "✅ FAISS index written to C:\\Users\\sanat\\LangGraph-Udemy-Course\\LangGraphDHS\\data\\policy_faiss_index2\n"
     ]
    }
   ],
   "source": [
    "def build_faiss_from_policies(json_path: Path, index_dir: Path) -> None:\n",
    "    with open(json_path, \"r\", encoding=\"utf-8\") as f:\n",
    "        policies = json.load(f)\n",
    "\n",
    "    docs: List[Document] = []\n",
    "    for dept, topics in policies.items():\n",
    "        for topic, text in topics.items():\n",
    "            docs.append(\n",
    "                Document(\n",
    "                    page_content=text,\n",
    "                    metadata={\"department\": dept, \"topic\": topic}\n",
    "                )\n",
    "            )\n",
    "\n",
    "    splitter = RecursiveCharacterTextSplitter(chunk_size=500, chunk_overlap=100)\n",
    "    chunks = splitter.split_documents(docs)\n",
    "\n",
    "    embeddings = OpenAIEmbeddings()\n",
    "    vs = FAISS.from_documents(chunks, embeddings)\n",
    "    vs.save_local(str(index_dir))\n",
    "    print(f\"✅ FAISS index written to {index_dir}\")\n",
    "\n",
    "# Build if missing\n",
    "if not (INDEX_DIR / \"index2.faiss\").exists() or not (INDEX_DIR / \"index2.pkl\").exists():\n",
    "    build_faiss_from_policies(POLICY_JSON, INDEX_DIR)\n",
    "else:\n",
    "    print(\"ℹ️ Using existing FAISS index at\", INDEX_DIR)\n"
   ]
  },
  {
   "cell_type": "code",
   "execution_count": 9,
   "id": "db46cd43",
   "metadata": {},
   "outputs": [],
   "source": [
    "class HelpdeskState(TypedDict, total=False):\n",
    "    messages: List[Any]\n",
    "    department: str\n",
    "    retrieved_docs: List[Document] | List[str]\n",
    "    final_answer: str\n",
    "\n",
    "llm = ChatOpenAI(model_name=\"gpt-4o-mini\", temperature=0.3)\n",
    "emb = OpenAIEmbeddings()\n",
    "vectorstore = FAISS.load_local(\n",
    "    str(INDEX_DIR), emb, index_name=\"index\", allow_dangerous_deserialization=True\n",
    ")\n",
    "\n",
    "def _last_content(state: HelpdeskState) -> str:\n",
    "    m = state[\"messages\"][-1]\n",
    "    return m[\"content\"] if isinstance(m, dict) else getattr(m, \"content\", str(m))\n"
   ]
  },
  {
   "cell_type": "code",
   "execution_count": 10,
   "id": "d8356916",
   "metadata": {},
   "outputs": [],
   "source": [
    "def classify_department(state: HelpdeskState) -> HelpdeskState:\n",
    "    query = _last_content(state)\n",
    "    prompt = PromptTemplate.from_template(\n",
    "        \"\"\"Classify the user query into one of: HR, Finance, IT.\n",
    "Return ONLY one token: HR, Finance, or IT.\n",
    "\n",
    "Query: {query}\"\"\"\n",
    "    )\n",
    "    dept = LLMChain(llm=llm, prompt=prompt).run(query=query).strip()\n",
    "    dept_norm = dept.upper()\n",
    "    if dept_norm not in {\"HR\", \"FINANCE\", \"IT\"}:\n",
    "        # Fallback: try a simple heuristic before defaulting to HR\n",
    "        if any(k in query.lower() for k in [\"reimburse\", \"invoice\", \"expense\", \"claim\"]):\n",
    "            dept_norm = \"FINANCE\"\n",
    "        elif any(k in query.lower() for k in [\"password\", \"vpn\", \"email\", \"laptop\", \"it \"]):\n",
    "            dept_norm = \"IT\"\n",
    "        else:\n",
    "            dept_norm = \"HR\"\n",
    "    return {**state, \"department\": dept_norm}\n"
   ]
  },
  {
   "cell_type": "code",
   "execution_count": 11,
   "id": "8ab0b018",
   "metadata": {},
   "outputs": [],
   "source": [
    "def retrieve_policies(state: HelpdeskState) -> HelpdeskState:\n",
    "    query = _last_content(state)\n",
    "    dept = state.get(\"department\")\n",
    "    retriever = vectorstore.as_retriever(\n",
    "        search_type=\"mmr\",\n",
    "        search_kwargs={\"k\": 6, \"lambda_mult\": 0.2},\n",
    "    )\n",
    "    # Pull and then filter by department metadata\n",
    "    docs = retriever.get_relevant_documents(query) or []\n",
    "    if dept in {\"HR\", \"FINANCE\", \"IT\"}:\n",
    "        docs = [d for d in docs if d.metadata.get(\"department\", \"\").upper() == dept]\n",
    "    return {**state, \"retrieved_docs\": docs}\n"
   ]
  },
  {
   "cell_type": "code",
   "execution_count": 12,
   "id": "17943b3d",
   "metadata": {},
   "outputs": [],
   "source": [
    "def filter_policies(state: HelpdeskState) -> HelpdeskState:\n",
    "    docs: List[Document] = state.get(\"retrieved_docs\", [])\n",
    "    if not docs:\n",
    "        return {**state, \"retrieved_docs\": []}\n",
    "    query = _last_content(state)\n",
    "    combined = \"\\n\\n---\\n\\n\".join(\n",
    "        [f\"[{d.metadata.get('department','?')}/{d.metadata.get('topic','?')}]\\n{d.page_content}\" for d in docs]\n",
    "    )\n",
    "    prompt = PromptTemplate.from_template(\n",
    "        \"\"\"You are filtering policy excerpts for the user's question.\n",
    "\n",
    "Question:\n",
    "{query}\n",
    "\n",
    "Excerpts:\n",
    "{docs}\n",
    "\n",
    "Keep ONLY the minimal set of excerpts that directly answer the question.\n",
    "- Drop anything irrelevant to the question.\n",
    "- Do NOT add new information.\n",
    "Return the kept excerpts VERBATIM, joined by two newlines.\n",
    "If nothing helps, return exactly: NO_MATCH\n",
    "\"\"\"\n",
    "    )\n",
    "    filtered = LLMChain(llm=llm, prompt=prompt).run(query=query, docs=combined).strip()\n",
    "    kept = [] if filtered == \"NO_MATCH\" or not filtered else [filtered]\n",
    "    return {**state, \"retrieved_docs\": kept}\n"
   ]
  },
  {
   "cell_type": "code",
   "execution_count": 13,
   "id": "3864f76b",
   "metadata": {},
   "outputs": [],
   "source": [
    "def answer_from_policies(state: HelpdeskState) -> HelpdeskState:\n",
    "    content = state.get(\"retrieved_docs\", [])\n",
    "    query = _last_content(state)\n",
    "    if not content:\n",
    "        return {**state, \"final_answer\": \"Sorry, I couldn’t find a relevant policy excerpt for that.\"}\n",
    "\n",
    "    prompt = PromptTemplate.from_template(\n",
    "        \"\"\"Based ONLY on the excerpts below, answer the user's question clearly.\n",
    "If the excerpts do not contain the answer, say you don’t have enough info.\n",
    "\n",
    "Question:\n",
    "{query}\n",
    "\n",
    "Excerpts:\n",
    "{content}\n",
    "\n",
    "Rules:\n",
    "- Do not invent details beyond the excerpts.\n",
    "- If numbers/limits aren’t present, do NOT guess them.\n",
    "- Keep it short (3–5 sentences).\"\"\"\n",
    "    )\n",
    "    final = LLMChain(llm=llm, prompt=prompt).run(query=query, content=content[0]).strip()\n",
    "    return {**state, \"final_answer\": final}\n"
   ]
  },
  {
   "cell_type": "code",
   "execution_count": 18,
   "id": "fb540220",
   "metadata": {},
   "outputs": [
    {
     "name": "stdout",
     "output_type": "stream",
     "text": [
      "✅ Graph compiled\n"
     ]
    }
   ],
   "source": [
    "builder = StateGraph(HelpdeskState)\n",
    "\n",
    "# Nodes (agents)\n",
    "builder.add_node(\"ClassifyDepartment\", classify_department)\n",
    "builder.add_node(\"RetrievePolicies\",   retrieve_policies)\n",
    "builder.add_node(\"FilterPolicies\",     filter_policies)\n",
    "builder.add_node(\"Answer\",             answer_from_policies)\n",
    "\n",
    "# Entry → flow → END\n",
    "builder.set_entry_point(\"ClassifyDepartment\")\n",
    "builder.add_edge(\"ClassifyDepartment\", \"RetrievePolicies\")\n",
    "builder.add_edge(\"RetrievePolicies\",   \"FilterPolicies\")\n",
    "builder.add_edge(\"FilterPolicies\",     \"Answer\")\n",
    "builder.add_edge(\"Answer\",             END)\n",
    "\n",
    "graph2 = builder.compile()\n",
    "print(\"✅ Graph compiled\")\n"
   ]
  },
  {
   "cell_type": "code",
   "execution_count": 15,
   "id": "f0441be9",
   "metadata": {},
   "outputs": [],
   "source": [
    "def run_query(query: str, debug: bool = True):\n",
    "    input_state: HelpdeskState = {\"messages\": [HumanMessage(content=query)]}\n",
    "    result = graph.invoke(input_state)\n",
    "\n",
    "    if debug:\n",
    "        print(\"—\" * 60)\n",
    "        print(\"Dept:\", result.get(\"department\"))\n",
    "        # If we want to re-run raw retrieval to inspect:\n",
    "        dept = result.get(\"department\")\n",
    "        retriever = vectorstore.as_retriever(\n",
    "            search_type=\"mmr\",\n",
    "            search_kwargs={\"k\": 4, \"lambda_mult\": 0.2},\n",
    "        )\n",
    "        raw = retriever.get_relevant_documents(query) or []\n",
    "        raw = [d for d in raw if d.metadata.get(\"department\",\"\").upper() == dept]\n",
    "        print(\"\\nTop retrieved (pre-filter):\")\n",
    "        for i, d in enumerate(raw, 1):\n",
    "            print(f\"\\n[{i}] {d.metadata.get('department')}/{d.metadata.get('topic')}\")\n",
    "            print(d.page_content[:300], \"…\")\n",
    "\n",
    "        kept = result.get(\"retrieved_docs\", [])\n",
    "        if kept:\n",
    "            print(\"\\nKept excerpts (post-filter):\\n\", kept[0][:800], \"…\")\n",
    "        else:\n",
    "            print(\"\\nKept excerpts (post-filter): <none>\")\n",
    "\n",
    "        print(\"\\n✅ Final Answer:\\n\", result.get(\"final_answer\"))\n",
    "\n",
    "    return result\n"
   ]
  },
  {
   "cell_type": "code",
   "execution_count": 23,
   "id": "cdd8b997",
   "metadata": {},
   "outputs": [
    {
     "name": "stdout",
     "output_type": "stream",
     "text": [
      "————————————————————————————————————————————————————————————\n",
      "Dept: HR\n",
      "\n",
      "Top retrieved (pre-filter):\n",
      "\n",
      "[1] HR/Leave and Attendance\n",
      "Employees are entitled to 20 days of casual leave per calendar year. Casual leave must be applied for in advance where possible. Unused casual leave cannot be carried forward to the next year. …\n",
      "\n",
      "Kept excerpts (post-filter):\n",
      " [HR/Leave and Attendance]\n",
      "Employees are entitled to 20 days of casual leave per calendar year. Casual leave must be applied for in advance where possible. Unused casual leave cannot be carried forward to the next year. …\n",
      "\n",
      "✅ Final Answer:\n",
      " You are entitled to 20 days of casual leave per calendar year. Casual leave must be applied for in advance where possible. Unused casual leave cannot be carried forward to the next year.\n"
     ]
    },
    {
     "data": {
      "text/plain": [
       "{'messages': [HumanMessage(content='How many casual leaves can I take in a year?', additional_kwargs={}, response_metadata={})],\n",
       " 'department': 'HR',\n",
       " 'retrieved_docs': ['[HR/Leave and Attendance]\\nEmployees are entitled to 20 days of casual leave per calendar year. Casual leave must be applied for in advance where possible. Unused casual leave cannot be carried forward to the next year.'],\n",
       " 'final_answer': 'You are entitled to 20 days of casual leave per calendar year. Casual leave must be applied for in advance where possible. Unused casual leave cannot be carried forward to the next year.'}"
      ]
     },
     "execution_count": 23,
     "metadata": {},
     "output_type": "execute_result"
    }
   ],
   "source": [
    "# run_query(\"How to reset IT password?\")\n",
    "run_query(\"How many casual leaves can I take in a year?\")\n",
    "# run_query(\"is personal travel expenses covered under travel policy?\")\n"
   ]
  },
  {
   "cell_type": "code",
   "execution_count": 20,
   "id": "3469cc73",
   "metadata": {},
   "outputs": [
    {
     "data": {
      "image/png": "[encoded data removed]",
      "text/plain": [
       "<IPython.core.display.Image object>"
      ]
     },
     "metadata": {},
     "output_type": "display_data"
    }
   ],
   "source": [
    "try:\n",
    "    from IPython.display import Image, display\n",
    "    display(Image(graph2.get_graph().draw_mermaid_png()))\n",
    "except Exception:\n",
    "    print(graph2.get_graph().draw_mermaid())  # Paste into mermaid.live if needed\n"
   ]
  },
  {
   "cell_type": "code",
   "execution_count": null,
   "id": "7ec359b6",
   "metadata": {},
   "outputs": [],
   "source": []
  }
 ],
 "metadata": {
  "kernelspec": {
   "display_name": ".venv",
   "language": "python",
   "name": "python3"
  },
  "language_info": {
   "codemirror_mode": {
    "name": "ipython",
    "version": 3
   },
   "file_extension": ".py",
   "mimetype": "text/x-python",
   "name": "python",
   "nbconvert_exporter": "python",
   "pygments_lexer": "ipython3",
   "version": "3.11.9"
  }
 },
 "nbformat": 4,
 "nbformat_minor": 5
}

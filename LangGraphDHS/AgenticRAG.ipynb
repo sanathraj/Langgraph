{
 "cells": [
  {
   "cell_type": "code",
   "execution_count": 1,
   "id": "3bf35585",
   "metadata": {},
   "outputs": [
    {
     "data": {
      "text/plain": [
       "True"
      ]
     },
     "execution_count": 1,
     "metadata": {},
     "output_type": "execute_result"
    }
   ],
   "source": [
    "from dotenv import load_dotenv\n",
    "\n",
    "load_dotenv()"
   ]
  },
  {
   "cell_type": "code",
   "execution_count": 4,
   "id": "95d83e56",
   "metadata": {},
   "outputs": [
    {
     "ename": "ModuleNotFoundError",
     "evalue": "No module named 'langchain.agents.openai_functions'",
     "output_type": "error",
     "traceback": [
      "\u001b[1;31m---------------------------------------------------------------------------\u001b[0m",
      "\u001b[1;31mModuleNotFoundError\u001b[0m                       Traceback (most recent call last)",
      "Cell \u001b[1;32mIn[4], line 1\u001b[0m\n\u001b[1;32m----> 1\u001b[0m \u001b[38;5;28;01mfrom\u001b[39;00m \u001b[38;5;21;01mlangchain\u001b[39;00m\u001b[38;5;21;01m.\u001b[39;00m\u001b[38;5;21;01magents\u001b[39;00m\u001b[38;5;21;01m.\u001b[39;00m\u001b[38;5;21;01mopenai_functions\u001b[39;00m \u001b[38;5;28;01mimport\u001b[39;00m (\n\u001b[0;32m      2\u001b[0m     create_openai_functions_agent,\n\u001b[0;32m      3\u001b[0m     OpenAIFunctionsAgentPrompt\n\u001b[0;32m      4\u001b[0m )\n",
      "\u001b[1;31mModuleNotFoundError\u001b[0m: No module named 'langchain.agents.openai_functions'"
     ]
    }
   ],
   "source": [
    "from langchain.agents.openai_functions import (\n",
    "    create_openai_functions_agent,\n",
    "    OpenAIFunctionsAgentPrompt\n",
    ")\n"
   ]
  },
  {
   "cell_type": "code",
   "execution_count": 3,
   "id": "7a25304c",
   "metadata": {},
   "outputs": [
    {
     "name": "stderr",
     "output_type": "stream",
     "text": [
      "C:\\Users\\sanat\\AppData\\Local\\Temp\\ipykernel_29076\\2629238541.py:70: LangChainDeprecationWarning: The class `ChatOpenAI` was deprecated in LangChain 0.0.10 and will be removed in 1.0. An updated version of the class exists in the :class:`~langchain-openai package and should be used instead. To use it run `pip install -U :class:`~langchain-openai` and import as `from :class:`~langchain_openai import ChatOpenAI``.\n",
      "  llm = ChatOpenAI(model=\"gpt-3.5-turbo\", temperature=0)\n"
     ]
    },
    {
     "ename": "TypeError",
     "evalue": "create_openai_functions_agent() missing 1 required positional argument: 'prompt'",
     "output_type": "error",
     "traceback": [
      "\u001b[1;31m---------------------------------------------------------------------------\u001b[0m",
      "\u001b[1;31mTypeError\u001b[0m                                 Traceback (most recent call last)",
      "Cell \u001b[1;32mIn[3], line 71\u001b[0m\n\u001b[0;32m     69\u001b[0m \u001b[38;5;66;03m# ---- AGENT SETUP ----\u001b[39;00m\n\u001b[0;32m     70\u001b[0m llm \u001b[38;5;241m=\u001b[39m ChatOpenAI(model\u001b[38;5;241m=\u001b[39m\u001b[38;5;124m\"\u001b[39m\u001b[38;5;124mgpt-3.5-turbo\u001b[39m\u001b[38;5;124m\"\u001b[39m, temperature\u001b[38;5;241m=\u001b[39m\u001b[38;5;241m0\u001b[39m)\n\u001b[1;32m---> 71\u001b[0m agent \u001b[38;5;241m=\u001b[39m \u001b[43mcreate_openai_functions_agent\u001b[49m\u001b[43m(\u001b[49m\u001b[43mllm\u001b[49m\u001b[43m,\u001b[49m\u001b[43m \u001b[49m\u001b[43mtools\u001b[49m\u001b[43m)\u001b[49m\n\u001b[0;32m     72\u001b[0m agent_executor \u001b[38;5;241m=\u001b[39m AgentExecutor(agent\u001b[38;5;241m=\u001b[39magent, tools\u001b[38;5;241m=\u001b[39mtools, verbose\u001b[38;5;241m=\u001b[39m\u001b[38;5;28;01mTrue\u001b[39;00m)\n\u001b[0;32m     75\u001b[0m \u001b[38;5;66;03m# ---- GRAPH NODE ----\u001b[39;00m\n",
      "\u001b[1;31mTypeError\u001b[0m: create_openai_functions_agent() missing 1 required positional argument: 'prompt'"
     ]
    }
   ],
   "source": [
    "# agentic_rag_multitool.py\n",
    "\n",
    "from langgraph.graph import StateGraph, START, END\n",
    "from langgraph.checkpoint.memory import MemorySaver\n",
    "from langchain.chat_models import ChatOpenAI\n",
    "from langchain.agents import Tool, AgentExecutor, create_openai_functions_agent\n",
    "from langchain_community.vectorstores import FAISS\n",
    "from langchain.embeddings import OpenAIEmbeddings\n",
    "from langchain.tools import tool\n",
    "from typing import TypedDict, Annotated, List, Optional\n",
    "import math\n",
    "\n",
    "\n",
    "# ---- STATE ----\n",
    "class AgentState(TypedDict):\n",
    "    question: str\n",
    "    answer: Optional[str]\n",
    "    messages: List\n",
    "\n",
    "\n",
    "# ---- TOOLS ----\n",
    "@tool\n",
    "def retrieve_docs(query: str) -> str:\n",
    "    \"\"\"Search relevant documents in the knowledge base.\"\"\"\n",
    "    print(\"📚 [Tool] retrieve_docs()\")\n",
    "    vectorstore = FAISS.load_local(\"vectorstore\", OpenAIEmbeddings(), allow_dangerous_deserialization=True)\n",
    "    docs = vectorstore.similarity_search(query, k=3)\n",
    "    return \"\\n\".join([d.page_content for d in docs])\n",
    "\n",
    "\n",
    "@tool\n",
    "def math_tool(expression: str) -> str:\n",
    "    \"\"\"Solve a math expression like '2+2*5'.\"\"\"\n",
    "    print(\"🧮 [Tool] math_tool()\")\n",
    "    try:\n",
    "        return str(eval(expression))\n",
    "    except Exception as e:\n",
    "        return f\"Math error: {str(e)}\"\n",
    "\n",
    "\n",
    "@tool\n",
    "def python_tool(code: str) -> str:\n",
    "    \"\"\"Run simple Python code and return the result.\"\"\"\n",
    "    print(\"🐍 [Tool] python_tool()\")\n",
    "    try:\n",
    "        local_vars = {}\n",
    "        exec(code, {}, local_vars)\n",
    "        return str(local_vars)\n",
    "    except Exception as e:\n",
    "        return f\"Python error: {str(e)}\"\n",
    "\n",
    "\n",
    "@tool\n",
    "def web_search(query: str) -> str:\n",
    "    \"\"\"Simulate a web search (replace with real API).\"\"\"\n",
    "    print(\"🌐 [Tool] web_search()\")\n",
    "    return f\"Simulated web result for '{query}'.\"\n",
    "\n",
    "\n",
    "# ---- TOOL LIST ----\n",
    "tools = [\n",
    "    Tool(name=\"retrieve_docs\", func=retrieve_docs, description=\"Search internal knowledge base\"),\n",
    "    Tool(name=\"math_tool\", func=math_tool, description=\"Evaluate math expressions\"),\n",
    "    Tool(name=\"python_tool\", func=python_tool, description=\"Execute simple Python code\"),\n",
    "    Tool(name=\"web_search\", func=web_search, description=\"Search the web for current info\"),\n",
    "]\n",
    "\n",
    "\n",
    "# ---- AGENT SETUP ----\n",
    "llm = ChatOpenAI(model=\"gpt-3.5-turbo\", temperature=0)\n",
    "agent = create_openai_functions_agent(llm, tools)\n",
    "agent_executor = AgentExecutor(agent=agent, tools=tools, verbose=True)\n",
    "\n",
    "\n",
    "# ---- GRAPH NODE ----\n",
    "def agent_node(state: AgentState):\n",
    "    question = state[\"question\"]\n",
    "    result = agent_executor.invoke({\"input\": question})\n",
    "    return {\n",
    "        \"question\": question,\n",
    "        \"answer\": result[\"output\"],\n",
    "        \"messages\": [result],\n",
    "    }\n",
    "\n",
    "\n",
    "# ---- LANGGRAPH ----\n",
    "builder = StateGraph(AgentState)\n",
    "builder.add_node(\"agent_node\", agent_node)\n",
    "builder.set_entry_point(\"agent_node\")\n",
    "builder.set_finish_point(\"agent_node\")\n",
    "graph = builder.compile()\n",
    "\n",
    "\n",
    "# ---- RUN ----\n",
    "if __name__ == \"__main__\":\n",
    "    print(\"🤖 Welcome to the Agentic RAG Multitool Chatbot!\")\n",
    "\n",
    "    print(\"\\n💬 Ask a question (Ctrl+C to exit)\\n\")\n",
    "    while True:\n",
    "        try:\n",
    "            question = input(\"🧑‍💻 You: \")\n",
    "            output = graph.invoke({\"question\": question})\n",
    "            print(\"🤖 AI:\", output[\"answer\"], \"\\n\")\n",
    "        except KeyboardInterrupt:\n",
    "            print(\"\\n👋 Exiting.\")\n",
    "            break\n"
   ]
  },
  {
   "cell_type": "code",
   "execution_count": null,
   "id": "1a6d81ce",
   "metadata": {},
   "outputs": [],
   "source": []
  }
 ],
 "metadata": {
  "kernelspec": {
   "display_name": ".venv",
   "language": "python",
   "name": "python3"
  },
  "language_info": {
   "codemirror_mode": {
    "name": "ipython",
    "version": 3
   },
   "file_extension": ".py",
   "mimetype": "text/x-python",
   "name": "python",
   "nbconvert_exporter": "python",
   "pygments_lexer": "ipython3",
   "version": "3.11.9"
  }
 },
 "nbformat": 4,
 "nbformat_minor": 5
}

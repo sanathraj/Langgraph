{
 "cells": [
  {
   "cell_type": "markdown",
   "id": "4535294c",
   "metadata": {},
   "source": [
    "# Simple Chatbot"
   ]
  },
  {
   "cell_type": "code",
   "execution_count": 32,
   "id": "b280dcdc",
   "metadata": {},
   "outputs": [
    {
     "data": {
      "text/plain": [
       "True"
      ]
     },
     "execution_count": 32,
     "metadata": {},
     "output_type": "execute_result"
    }
   ],
   "source": [
    "from dotenv import load_dotenv\n",
    "\n",
    "load_dotenv()"
   ]
  },
  {
   "cell_type": "code",
   "execution_count": 28,
   "id": "bde3b1d1",
   "metadata": {},
   "outputs": [
    {
     "name": "stdout",
     "output_type": "stream",
     "text": [
      "---- Without Memory ----\n",
      "{'input': 'What is  OpenAI', 'output': 'OpenAI is an artificial intelligence research organization that aims to ensure that artificial general intelligence (AGI) benefits all of humanity. Founded in December 2015, OpenAI conducts research in various areas of AI, including natural language processing, machine learning, and robotics. It is known for developing advanced AI models, such as the GPT (Generative Pre-trained Transformer) series, which includes language models capable of understanding and generating human-like text.\\n\\nOpenAI also emphasizes safety and ethical considerations in AI development, advocating for responsible usage of AI technology. The organization operates with a unique blend of nonprofit and for-profit structures, allowing it to pursue its mission while attracting funding to support its ambitious research and development goals.'}\n",
      "{'input': 'Where is it located?', 'output': 'Could you please provide more context or specify what you are asking about? This will help me give you a more accurate answer.'}\n"
     ]
    }
   ],
   "source": [
    "from langchain_openai import ChatOpenAI\n",
    "from langgraph.graph import StateGraph, START, END\n",
    "from typing import TypedDict\n",
    "\n",
    "# Define state (no memory, only current input/output)\n",
    "class State(TypedDict):\n",
    "    input: str\n",
    "    output: str\n",
    "\n",
    "llm = ChatOpenAI(model=\"gpt-4o-mini\")\n",
    "\n",
    "# Simple agent node \n",
    "def agent_node(state: State):\n",
    "    response = llm.invoke(state[\"input\"])\n",
    "    return {\"output\": response.content}\n",
    "\n",
    "# Build graph\n",
    "graph = StateGraph(State)\n",
    "graph.add_node(\"agent\", agent_node)\n",
    "graph.add_edge(START, \"agent\")\n",
    "graph.add_edge(\"agent\", END)\n",
    "\n",
    "app_without_memory = graph.compile()\n",
    "\n",
    "# Run \n",
    "print(\"---- Without Memory ----\")\n",
    "print(app_without_memory.invoke({\"input\": \"What is  name is OpenAI\"}))\n",
    "print(app_without_memory.invoke({\"input\": \"Where is it located?\"}))\n"
   ]
  },
  {
   "cell_type": "markdown",
   "id": "b5446f42",
   "metadata": {},
   "source": [
    "# Simple Chatbot with Memory "
   ]
  },
  {
   "cell_type": "code",
   "execution_count": 30,
   "id": "f8bb72d2",
   "metadata": {},
   "outputs": [
    {
     "name": "stdout",
     "output_type": "stream",
     "text": [
      "---- With Memory ----\n",
      "Assistant: OpenAI is an artificial intelligence research organization that aims to develop and promote friendly AI for the benefit of humanity. Founded in December 2015, OpenAI focuses on creating advanced AI technologies while ensuring that these technologies are safe and beneficial. The organization conducts research in various areas of AI, including machine learning, reinforcement learning, natural language processing, and robotics.\n",
      "\n",
      "OpenAI is known for several prominent projects, including the development of the GPT (Generative Pre-trained Transformer) models, which are capable of understanding and generating human-like text. The organization also emphasizes the importance of AI safety and responsible AI deployment, advocating for policies that ensure AI is aligned with human values and can be controlled.\n",
      "\n",
      "In addition to research, OpenAI engages in partnerships, open-source initiatives, and collaborations to share knowledge and promote the responsible use of AI technologies globally.\n",
      "Assistant: OpenAI is based in San Francisco, California, USA. The organization operates from its headquarters in the city and has a team of researchers, engineers, and other professionals working on various aspects of artificial intelligence development and safety. Keep in mind that while the main office is in San Francisco, OpenAI also collaborates with institutions and researchers worldwide.\n"
     ]
    }
   ],
   "source": [
    "from typing import TypedDict, Annotated\n",
    "from langchain_openai import ChatOpenAI\n",
    "from langchain_core.messages import HumanMessage, AIMessage\n",
    "from langgraph.graph import StateGraph, START, END\n",
    "from langgraph.graph.message import add_messages\n",
    "\n",
    "# State now keeps structured messages\n",
    "class State(TypedDict):\n",
    "    messages: Annotated[list, add_messages]\n",
    "\n",
    "llm = ChatOpenAI(model=\"gpt-4o-mini\")\n",
    "\n",
    "# Node \n",
    "def agent_node(state: State):\n",
    "    response = llm.invoke(state[\"messages\"])\n",
    "    return {\"messages\": [response]}  \n",
    "\n",
    "# Build graph\n",
    "graph = StateGraph(State)\n",
    "graph.add_node(\"agent\", agent_node)\n",
    "graph.add_edge(START, \"agent\")\n",
    "graph.add_edge(\"agent\", END)\n",
    "app_with_memory = graph.compile()\n",
    "\n",
    "# ---- Demo ----\n",
    "print(\"---- With Memory ----\")\n",
    "\n",
    "# First turn\n",
    "state = {\"messages\": [HumanMessage(content=\"What is OpenAI?\")]}\n",
    "state = app_with_memory.invoke(state)\n",
    "print(\"Assistant:\", state[\"messages\"][-1].content)\n",
    "\n",
    "# Second turn (follow-up)\n",
    "state[\"messages\"].append(HumanMessage(content=\"Where is it located?\"))\n",
    "state = app_with_memory.invoke(state)\n",
    "print(\"Assistant:\", state[\"messages\"][-1].content)\n"
   ]
  },
  {
   "cell_type": "code",
   "execution_count": null,
   "id": "1ae0085a",
   "metadata": {},
   "outputs": [],
   "source": []
  }
 ],
 "metadata": {
  "kernelspec": {
   "display_name": ".venv",
   "language": "python",
   "name": "python3"
  },
  "language_info": {
   "codemirror_mode": {
    "name": "ipython",
    "version": 3
   },
   "file_extension": ".py",
   "mimetype": "text/x-python",
   "name": "python",
   "nbconvert_exporter": "python",
   "pygments_lexer": "ipython3",
   "version": "3.11.9"
  }
 },
 "nbformat": 4,
 "nbformat_minor": 5
}

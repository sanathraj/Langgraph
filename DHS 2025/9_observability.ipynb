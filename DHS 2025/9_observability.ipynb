{
 "cells": [
  {
   "cell_type": "markdown",
   "id": "281a89a3-57e6-4738-96d2-c1e1de5ff9e1",
   "metadata": {},
   "source": [
    "# Tracing with LangSmith"
   ]
  },
  {
   "cell_type": "code",
   "execution_count": 1,
   "id": "4c4b27d2-5360-45f5-aa88-21636f8a81df",
   "metadata": {},
   "outputs": [
    {
     "name": "stdout",
     "output_type": "stream",
     "text": [
      "Note: you may need to restart the kernel to use updated packages.\n"
     ]
    }
   ],
   "source": [
    "pip install -q langsmith"
   ]
  },
  {
   "cell_type": "code",
   "execution_count": 1,
   "id": "277e13ac-4543-4703-98a9-9021ccecfa20",
   "metadata": {},
   "outputs": [
    {
     "data": {
      "text/plain": [
       "True"
      ]
     },
     "execution_count": 1,
     "metadata": {},
     "output_type": "execute_result"
    }
   ],
   "source": [
    "# loading the API keys\n",
    "from dotenv import load_dotenv, find_dotenv\n",
    "load_dotenv(find_dotenv(), override=True)"
   ]
  },
  {
   "cell_type": "code",
   "execution_count": 4,
   "id": "e5f939e9-6514-45fd-bf3f-0a79b50cf13b",
   "metadata": {},
   "outputs": [
    {
     "data": {
      "text/plain": [
       "'Sure! Here are four engaging headlines for a blog post on sustainable living:\\n\\n1. **\"10 Simple Swaps for a Greener Home: Your Guide to Sustainable Living\"**\\n   \\n2. **\"From Waste to Wonder: Creative Ways to Embrace a Zero-Waste Lifestyle\"**\\n\\n3. **\"Sustainable Living Made Easy: How Small Changes Can Make a Big Impact\"**\\n\\n4. **\"The Future is Green: Discover the Benefits of Sustainable Living for You and the Planet\"**'"
      ]
     },
     "execution_count": 4,
     "metadata": {},
     "output_type": "execute_result"
    }
   ],
   "source": [
    "from langsmith import traceable\n",
    "from openai import Client\n",
    "openai = Client()\n",
    "\n",
    "@traceable\n",
    "def format_prompt(user_prompt):\n",
    "    return [\n",
    "        {\n",
    "            'role': 'system',\n",
    "            'content': 'You are a helpful assistant.',\n",
    "        },\n",
    "        {\n",
    "            'role': 'user',\n",
    "            'content': f'Write 4 engaging headlines for a blog post on {user_prompt}?'\n",
    "        }\n",
    "    ]\n",
    "\n",
    "\n",
    "@traceable(run_type='llm')\n",
    "def invoke_llm(messages):\n",
    "    return openai.chat.completions.create(\n",
    "        messages=messages, model='gpt-4o-mini', temperature=0\n",
    "    )\n",
    "\n",
    "\n",
    "@traceable\n",
    "def parse_output(response):\n",
    "    return response.choices[0].message.content\n",
    "\n",
    "\n",
    "@traceable\n",
    "def run_pipeline():\n",
    "    messages = format_prompt('sustainable living')\n",
    "    response = invoke_llm(messages)\n",
    "    return parse_output(response)\n",
    "    \n",
    "run_pipeline()"
   ]
  },
  {
   "cell_type": "code",
   "execution_count": null,
   "id": "2344759f-54f8-4eb1-8671-bac2e4f9c62f",
   "metadata": {},
   "outputs": [],
   "source": []
  }
 ],
 "metadata": {
  "kernelspec": {
   "display_name": ".venv",
   "language": "python",
   "name": "python3"
  },
  "language_info": {
   "codemirror_mode": {
    "name": "ipython",
    "version": 3
   },
   "file_extension": ".py",
   "mimetype": "text/x-python",
   "name": "python",
   "nbconvert_exporter": "python",
   "pygments_lexer": "ipython3",
   "version": "3.11.9"
  },
  "widgets": {
   "application/vnd.jupyter.widget-state+json": {
    "state": {},
    "version_major": 2,
    "version_minor": 0
   }
  }
 },
 "nbformat": 4,
 "nbformat_minor": 5
}

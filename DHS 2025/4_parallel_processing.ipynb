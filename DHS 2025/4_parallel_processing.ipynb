{
 "cells": [
  {
   "cell_type": "code",
   "execution_count": null,
   "id": "8253bd11",
   "metadata": {},
   "outputs": [],
   "source": [
    "    # Source:: https://www.udemy.com/course/langgraph-for-beginners/learn/lecture/49184479#overview"
   ]
  },
  {
   "cell_type": "code",
   "execution_count": null,
   "id": "248947f2",
   "metadata": {},
   "outputs": [],
   "source": [
    "import os\n",
    "from dotenv import load_dotenv\n",
    "load_dotenv() \n",
    "os.environ[\"OPENAI_API_KEY\"]=os.getenv(\"OPENAI_API_KEY\")"
   ]
  },
  {
   "cell_type": "code",
   "execution_count": null,
   "id": "8e619ec8",
   "metadata": {},
   "outputs": [],
   "source": [
    "from typing import TypedDict\n",
    "from langgraph.graph import StateGraph, END, START\n",
    "from langchain_openai import ChatOpenAI\n",
    "\n",
    "\n",
    "# Define state\n",
    "class MarketResearchState(TypedDict):\n",
    "    query: str\n",
    "    trends: str\n",
    "    competitors: str\n",
    "    sentiment: str\n",
    "    summary: str\n",
    "\n",
    "\n",
    "llm = ChatOpenAI()\n",
    "\n",
    "\n"
   ]
  },
  {
   "cell_type": "code",
   "execution_count": null,
   "id": "122d65c0",
   "metadata": {},
   "outputs": [],
   "source": [
    "def fetch_trends(state: MarketResearchState):\n",
    "    response = llm.invoke(f\"What are the latest market trends for {state['query']}?\")\n",
    "    return {\"trends\": response.content}\n",
    "\n",
    "\n",
    "def analyze_competitors(state: MarketResearchState):\n",
    "    response = llm.invoke(f\"List top competitors in {state['query']} market.\")\n",
    "    return {\"competitors\": response.content}\n",
    "\n",
    "\n",
    "def extract_sentiment(state: MarketResearchState):\n",
    "    response = llm.invoke(f\"What do customers feel about products in {state['query']} category?\")\n",
    "    return {\"sentiment\": response.content}\n",
    "\n",
    "\n",
    "def summarize(state: MarketResearchState):\n",
    "    summary_prompt = f\"\"\"\n",
    "    Product Research Summary:\n",
    "    - Trends: {state.get('trends')}\n",
    "    - Competitors: {state.get('competitors')}\n",
    "    - Customer Sentiment: {state.get('sentiment')}\n",
    "    Provide strategic insights for entering the {state['query']} market.\n",
    "    \"\"\"\n",
    "    response = llm.invoke(summary_prompt)\n",
    "    return {\"summary\": response.content}\n",
    "\n",
    "\n"
   ]
  },
  {
   "cell_type": "code",
   "execution_count": null,
   "id": "d11cf012",
   "metadata": {},
   "outputs": [],
   "source": [
    "\n",
    "graph_builder = StateGraph(MarketResearchState)\n",
    "\n",
    "# Add nodes\n",
    "graph_builder.add_node(\"fetch_trends\", fetch_trends)\n",
    "graph_builder.add_node(\"analyze_competitors\", analyze_competitors)\n",
    "graph_builder.add_node(\"extract_sentiment\", extract_sentiment)\n",
    "graph_builder.add_node(\"summarize\", summarize)\n",
    "\n",
    "# Add edges for parallel execution\n",
    "graph_builder.add_edge(START, \"fetch_trends\")\n",
    "graph_builder.add_edge(START, \"analyze_competitors\")    \n",
    "graph_builder.add_edge(START, \"extract_sentiment\")\n",
    "graph_builder.add_edge(\"fetch_trends\", \"summarize\")\n",
    "graph_builder.add_edge(\"analyze_competitors\", \"summarize\")  \n",
    "graph_builder.add_edge(\"extract_sentiment\", \"summarize\")\n",
    "\n",
    "# Add edges for sequential execution\n",
    "\n",
    "# Compile graph\n",
    "graph = graph_builder.compile()\n",
    "\n",
    "# Run it\n"
   ]
  },
  {
   "cell_type": "code",
   "execution_count": null,
   "id": "8ab0bed8",
   "metadata": {},
   "outputs": [
    {
     "data": {
      "image/png": "[encoded data removed]",
      "text/plain": [
       "<IPython.core.display.Image object>"
      ]
     },
     "metadata": {},
     "output_type": "display_data"
    }
   ],
   "source": [
    "from IPython.display import Markdown, display, Image\n",
    "\n",
    "display(Image(graph.get_graph(xray=True).draw_mermaid_png()))"
   ]
  },
  {
   "cell_type": "code",
   "execution_count": null,
   "id": "76a49e63",
   "metadata": {},
   "outputs": [
    {
     "name": "stdout",
     "output_type": "stream",
     "text": [
      "\n",
      "=== Final Market Summary ===\n",
      "\n",
      "1. Differentiation: To stand out in the competitive market for organic plastic bottles, it is important to focus on differentiating your product from competitors. This can be done through unique packaging designs, innovative materials, or special features that offer added value to customers. Highlighting the sustainability and environmental benefits of your product can also help attract conscious consumers.\n",
      "\n",
      "2. Partnerships: Collaborating with retailers, distributors, or other brands that share similar values can help expand your reach and increase brand visibility in the market. Partnering with organizations focused on sustainability or eco-friendly initiatives can also help establish credibility and trust with consumers.\n",
      "\n",
      "3. Marketing Strategy: Utilize social media platforms, online advertising, and influencer partnerships to promote your organic plastic bottles. Highlight the benefits of your product, such as being biodegradable, recyclable, or made from renewable materials. Emphasize the positive impact that choosing your product can have on the environment.\n",
      "\n",
      "4. Product Innovation: Stay up-to-date on the latest technologies and materials in the sustainable packaging industry to continuously improve and innovate your product offerings. Investing in research and development to create new and improved organic plastic bottle solutions can help stay ahead of competitors and meet evolving consumer demands.\n",
      "\n",
      "5. Pricing Strategy: While organic plastic bottles may come at a premium compared to traditional plastic bottles, it is important to price your product competitively to attract price-sensitive consumers. Consider offering discounts, promotions, or bundle deals to incentivize customers to choose your product over competitors.\n",
      "\n",
      "By implementing these strategic insights, you can effectively enter and establish a presence in the organic plastic bottles market, capitalize on the growing demand for sustainable packaging solutions, and differentiate your brand from competitors.\n"
     ]
    }
   ],
   "source": [
    "inputs = {\"query\": \"Organic plastic bottles\"}\n",
    "result = graph.invoke(inputs)\n",
    "\n",
    "# Output\n",
    "print(\"\\n=== Final Market Summary ===\\n\")\n",
    "print(result[\"summary\"])"
   ]
  },
  {
   "cell_type": "code",
   "execution_count": null,
   "id": "4a2ae20a",
   "metadata": {},
   "outputs": [],
   "source": []
  }
 ],
 "metadata": {
  "kernelspec": {
   "display_name": ".venv",
   "language": "python",
   "name": "python3"
  },
  "language_info": {
   "codemirror_mode": {
    "name": "ipython",
    "version": 3
   },
   "file_extension": ".py",
   "mimetype": "text/x-python",
   "name": "python",
   "nbconvert_exporter": "python",
   "pygments_lexer": "ipython3",
   "version": "3.11.9"
  }
 },
 "nbformat": 4,
 "nbformat_minor": 5
}

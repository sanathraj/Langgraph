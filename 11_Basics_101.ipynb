{
 "cells": [
  {
   "cell_type": "markdown",
   "id": "9ca2c793",
   "metadata": {},
   "source": [
    "# ✅ Typical Flow in LangGraph\n",
    "\n",
    "### 1. Define State\n",
    "- Decide what information your graph will carry \n",
    "\n",
    "---\n",
    "\n",
    "### 2. Define Nodes\n",
    "- Each node is just a Python function that takes `state` as input and returns updates to the state.\n",
    "\n",
    "---\n",
    "\n",
    "### 3. Add Nodes to Workflow\n",
    "- Use `workflow.add_node(\"name\", fn)` to register nodes in the graph.\n",
    "\n",
    "---\n",
    "\n",
    "### 4. Add Edges (Transitions)\n",
    "- Define how execution flows between nodes.\n",
    "- Use `workflow.add_edge(\"nodeA\", \"nodeB\")` or conditional edges.\n",
    "- Add `START → first node` and `last node → END`.\n",
    "\n",
    "---\n",
    "\n",
    "### 5. Compile the Graph\n",
    "- Convert `StateGraph` to a runnable graph:\n",
    "  ```python\n",
    "  app = workflow.compile()\n",
    "\n",
    "---\n",
    "### 6. Invoke / Run the Graph\n",
    "- result = app.invoke(inputs)"
   ]
  },
  {
   "cell_type": "code",
   "execution_count": 1,
   "id": "153f30c4",
   "metadata": {},
   "outputs": [
    {
     "name": "stdout",
     "output_type": "stream",
     "text": [
      "{'name': 'DHS 2025', 'greeting': 'Hello DHS 2025! 👋', 'farewell': 'Goodbye DHS 2025! 👋'}\n"
     ]
    }
   ],
   "source": [
    "from langgraph.graph import StateGraph, START, END\n",
    "from typing import TypedDict\n",
    "\n",
    "# Define the state that will flow through the graph\n",
    "class State(TypedDict):\n",
    "    name: str\n",
    "    greeting: str\n",
    "    farewell: str\n",
    "\n",
    "# Node 1: greet the user\n",
    "def greeter(state: State):\n",
    "    return {\"greeting\": f\"Hello {state['name']}! 👋\"}\n",
    "\n",
    "# Node 2: say goodbye\n",
    "def farwell(state: State):\n",
    "    return {\"farewell\": f\"Goodbye {state['name']}! 👋\"}\n",
    "\n",
    "# Build workflow\n",
    "workflow = StateGraph(State)\n",
    "\n",
    "# Add nodes\n",
    "workflow.add_node(\"greeter\", greeter)\n",
    "workflow.add_node(\"farwell\", farwell)\n",
    "\n",
    "# Add edges (flow of execution)\n",
    "workflow.add_edge(START, \"greeter\")\n",
    "workflow.add_edge(\"greeter\", \"farwell\")\n",
    "workflow.add_edge(\"farwell\", END)\n",
    "\n",
    "# Compile the workflow into an app\n",
    "app = workflow.compile()\n",
    "\n",
    "# Run with input\n",
    "result = app.invoke({\"name\": \"DHS 2025\"})\n",
    "print(result)\n"
   ]
  },
  {
   "cell_type": "markdown",
   "id": "f9f1a6f3",
   "metadata": {},
   "source": [
    "## Order bot"
   ]
  },
  {
   "cell_type": "code",
   "execution_count": 2,
   "id": "90e8d820",
   "metadata": {},
   "outputs": [],
   "source": [
    "from typing import TypedDict, Optional\n",
    "\n",
    "class AgentState(TypedDict):\n",
    "    input: str\n",
    "    output: Optional[str]\n",
    "    \n"
   ]
  },
  {
   "cell_type": "code",
   "execution_count": 3,
   "id": "2aa2d888",
   "metadata": {},
   "outputs": [],
   "source": [
    "def take_order_node(state: AgentState) -> AgentState:\n",
    "    print(\"📝 [Take Order Node] Processing input...\")\n",
    "    user_input = state[\"input\"]\n",
    "    order = f\"Order received: {user_input}\"\n",
    "    return {\"input\": user_input, \"output\": order}\n",
    "\n",
    "def confirm_order_node(state: AgentState) -> AgentState:\n",
    "    print(f\"✅ [Confirm Node] Confirming: {state['output']}\")\n",
    "    confirmation = f\"{state['output']} - Confirmed!\"\n",
    "    return {\"input\": state[\"input\"], \"output\": confirmation}\n",
    "\n",
    "def thank_you_node(state: AgentState) -> AgentState:\n",
    "    print(\"🙏 [Thank You Node] Wrapping up...\")\n",
    "    final_message = f\"{state['output']} Thank you for your order!\"\n",
    "    return {\"input\": state[\"input\"], \"output\": final_message}\n"
   ]
  },
  {
   "cell_type": "code",
   "execution_count": 4,
   "id": "b6ee4be5",
   "metadata": {},
   "outputs": [],
   "source": [
    "from langgraph.graph import StateGraph, END\n",
    "\n",
    "graph = StateGraph(AgentState)\n",
    "\n",
    "# Add nodes\n",
    "graph.add_node(\"take_order\", take_order_node)\n",
    "graph.add_node(\"confirm_order\", confirm_order_node)\n",
    "graph.add_node(\"thank_you\", thank_you_node)\n",
    "\n",
    "# Define flow\n",
    "graph.set_entry_point(\"take_order\")\n",
    "graph.add_edge(\"take_order\", \"confirm_order\")\n",
    "graph.add_edge(\"confirm_order\", \"thank_you\")\n",
    "graph.add_edge(\"thank_you\", END)\n",
    "\n",
    "# Compile the graph\n",
    "app = graph.compile()\n"
   ]
  },
  {
   "cell_type": "code",
   "execution_count": 5,
   "id": "2707701f",
   "metadata": {},
   "outputs": [
    {
     "data": {
      "image/png": "[encoded data removed]",
      "text/plain": [
       "<IPython.core.display.Image object>"
      ]
     },
     "metadata": {},
     "output_type": "display_data"
    }
   ],
   "source": [
    "from IPython.display import Markdown, display, Image\n",
    "\n",
    "display(Image(app.get_graph(xray=True).draw_mermaid_png()))"
   ]
  },
  {
   "cell_type": "code",
   "execution_count": 6,
   "id": "42f72e74",
   "metadata": {},
   "outputs": [
    {
     "name": "stdout",
     "output_type": "stream",
     "text": [
      "📝 [Take Order Node] Processing input...\n",
      "✅ [Confirm Node] Confirming: Order received:  Ice cream\n",
      "🙏 [Thank You Node] Wrapping up...\n",
      "🏁 Final Result: {'input': ' Ice cream', 'output': 'Order received:  Ice cream - Confirmed! Thank you for your order!'}\n"
     ]
    }
   ],
   "source": [
    "result = app.invoke({\"input\": \" Ice cream\"})\n",
    "print(\"🏁 Final Result:\", result)\n"
   ]
  },
  {
   "cell_type": "markdown",
   "id": "df8d68ca",
   "metadata": {},
   "source": [
    "# Coffee Bot: Sugar or No Sugar"
   ]
  },
  {
   "cell_type": "code",
   "execution_count": 7,
   "id": "e5065792",
   "metadata": {},
   "outputs": [],
   "source": [
    "from typing import TypedDict, Optional\n",
    "\n",
    "class AgentState(TypedDict):\n",
    "    input: str\n",
    "    output: Optional[str]\n"
   ]
  },
  {
   "cell_type": "code",
   "execution_count": 8,
   "id": "981e7439",
   "metadata": {},
   "outputs": [],
   "source": [
    "def decision_node(state: AgentState) -> AgentState:\n",
    "    user_input = state[\"input\"].lower()\n",
    "    if \"sugar\" in user_input:\n",
    "        print(\"☕ Decision: User wants sugar.\")\n",
    "        return {\"input\": state[\"input\"], \"output\": None, \"next\": \"with_sugar\"}\n",
    "    else:\n",
    "        print(\"☕ Decision: User wants no sugar.\")\n",
    "        return {\"input\": state[\"input\"], \"output\": None, \"next\": \"no_sugar\"}\n",
    "\n",
    "def with_sugar_node(state: AgentState) -> AgentState:\n",
    "    return {\n",
    "        \"input\": state[\"input\"],\n",
    "        \"output\": \"Serving coffee with sugar!\",\n",
    "        \"next\": None\n",
    "    }\n",
    "\n",
    "def no_sugar_node(state: AgentState) -> AgentState:\n",
    "    return {\n",
    "        \"input\": state[\"input\"],\n",
    "        \"output\": \"Serving black coffee!\",\n",
    "        \"next\": None\n",
    "    }\n"
   ]
  },
  {
   "cell_type": "code",
   "execution_count": 9,
   "id": "30f4c5e2",
   "metadata": {},
   "outputs": [],
   "source": [
    "from langgraph.graph import StateGraph, END\n",
    "\n",
    "graph = StateGraph(AgentState)\n",
    "\n",
    "graph.add_node(\"decide\", decision_node)\n",
    "graph.add_node(\"with_sugar\", with_sugar_node)\n",
    "graph.add_node(\"no_sugar\", no_sugar_node)\n",
    "\n",
    "graph.set_entry_point(\"decide\")\n",
    "\n",
    "# Conditional routing based on state[\"next\"]\n",
    "graph.add_conditional_edges(\n",
    "    \"decide\",\n",
    "    lambda state: state[\"next\"],\n",
    "    {\n",
    "        \"with_sugar\": \"with_sugar\",\n",
    "        \"no_sugar\": \"no_sugar\"\n",
    "    }\n",
    ")\n",
    "\n",
    "# End the graph after either path\n",
    "graph.add_edge(\"with_sugar\", END)\n",
    "graph.add_edge(\"no_sugar\", END)\n",
    "\n",
    "# Compile\n",
    "app = graph.compile()\n"
   ]
  },
  {
   "cell_type": "code",
   "execution_count": 10,
   "id": "73f0ce84",
   "metadata": {},
   "outputs": [
    {
     "data": {
      "image/png": "[encoded data removed]",
      "text/plain": [
       "<IPython.core.display.Image object>"
      ]
     },
     "metadata": {},
     "output_type": "display_data"
    }
   ],
   "source": [
    "from IPython.display import Markdown, display, Image\n",
    "\n",
    "display(Image(app.get_graph(xray=True).draw_mermaid_png()))"
   ]
  },
  {
   "cell_type": "code",
   "execution_count": 11,
   "id": "fe75ad41",
   "metadata": {},
   "outputs": [
    {
     "name": "stdout",
     "output_type": "stream",
     "text": [
      "\n",
      "--- Sugar Example ---\n",
      "☕ Decision: User wants sugar.\n"
     ]
    },
    {
     "data": {
      "text/plain": [
       "{'input': 'I want coffee with sugar', 'output': 'Serving coffee with sugar!'}"
      ]
     },
     "execution_count": 11,
     "metadata": {},
     "output_type": "execute_result"
    }
   ],
   "source": [
    "print(\"\\n--- Sugar Example ---\")\n",
    "app.invoke({\"input\": \"I want coffee with sugar\"})\n",
    "\n"
   ]
  },
  {
   "cell_type": "code",
   "execution_count": 12,
   "id": "0eb19fe1",
   "metadata": {},
   "outputs": [
    {
     "name": "stdout",
     "output_type": "stream",
     "text": [
      "\n",
      "--- No Sugar Example ---\n",
      "☕ Decision: User wants no sugar.\n",
      "{'input': 'Just a black coffee', 'output': 'Serving black coffee!'}\n"
     ]
    }
   ],
   "source": [
    "print(\"\\n--- No Sugar Example ---\")\n",
    "print(app.invoke({\"input\": \"Just a black coffee\"}))"
   ]
  },
  {
   "cell_type": "code",
   "execution_count": null,
   "id": "5f1deec4",
   "metadata": {},
   "outputs": [],
   "source": []
  }
 ],
 "metadata": {
  "kernelspec": {
   "display_name": ".venv",
   "language": "python",
   "name": "python3"
  },
  "language_info": {
   "codemirror_mode": {
    "name": "ipython",
    "version": 3
   },
   "file_extension": ".py",
   "mimetype": "text/x-python",
   "name": "python",
   "nbconvert_exporter": "python",
   "pygments_lexer": "ipython3",
   "version": "3.11.9"
  }
 },
 "nbformat": 4,
 "nbformat_minor": 5
}
